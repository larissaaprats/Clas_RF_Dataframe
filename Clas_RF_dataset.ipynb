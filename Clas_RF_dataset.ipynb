{
  "nbformat": 4,
  "nbformat_minor": 0,
  "metadata": {
    "colab": {
      "name": "Clas_RF_dataset.ipynb",
      "provenance": [],
      "collapsed_sections": [
        "4WXztHGyEGTo"
      ],
      "mount_file_id": "1q39k0x4WaDi8C5Qo5AVR1Mt7ejFSsbHQ",
      "authorship_tag": "ABX9TyPyf35gw8f5lp/Cvnqzp63f",
      "include_colab_link": true
    },
    "kernelspec": {
      "name": "python3",
      "display_name": "Python 3"
    },
    "language_info": {
      "name": "python"
    }
  },
  "cells": [
    {
      "cell_type": "markdown",
      "metadata": {
        "id": "view-in-github",
        "colab_type": "text"
      },
      "source": [
        "<a href=\"https://colab.research.google.com/github/larissaaprats/Clas_RF_Dataframe/blob/main/Clas_RF_dataset.ipynb\" target=\"_parent\"><img src=\"https://colab.research.google.com/assets/colab-badge.svg\" alt=\"Open In Colab\"/></a>"
      ]
    },
    {
      "cell_type": "markdown",
      "metadata": {
        "id": "c--dk3eTAmbe"
      },
      "source": [
        "#**Dados**\n",
        "\n",
        "---\n",
        "\n"
      ]
    },
    {
      "cell_type": "markdown",
      "metadata": {
        "id": "NAFgEsPAeZag"
      },
      "source": [
        "# Gerar rótulos para o Dataset"
      ]
    },
    {
      "cell_type": "markdown",
      "metadata": {
        "id": "U4MQmeABfa4u"
      },
      "source": [
        "Para rotular as imagens acesse o website https://www.makesense.ai e envie os dados para realizar a anotação."
      ]
    },
    {
      "cell_type": "markdown",
      "metadata": {
        "id": "B8vgrLaInuu7"
      },
      "source": [
        "Carregue o arquivo exportado no Google Drive"
      ]
    },
    {
      "cell_type": "code",
      "metadata": {
        "colab": {
          "base_uri": "https://localhost:8080/"
        },
        "id": "Hem6hJo2faOF",
        "outputId": "65f6684b-65c4-4b53-cc10-b954bb3c64a2"
      },
      "source": [
        "from google.colab import drive\n",
        "drive.mount('/content/drive')"
      ],
      "execution_count": null,
      "outputs": [
        {
          "output_type": "stream",
          "text": [
            "Mounted at /content/drive\n"
          ],
          "name": "stdout"
        }
      ]
    },
    {
      "cell_type": "markdown",
      "metadata": {
        "id": "f_xPmL3L6N93"
      },
      "source": [
        "# Criando CSV das imagens do DataSet"
      ]
    },
    {
      "cell_type": "markdown",
      "metadata": {
        "id": "p0qkG52DUJ2p"
      },
      "source": [
        " - Cria o CSV com as colunas \"image\", \"Hieght\", \t\t\t\t\t\t\"Width\", \"Channels\", \"Avg Blue\", \"Avg Red\",\"Avg Green\"\n",
        "\n",
        " \n",
        " obs:pode demorar um pouco"
      ]
    },
    {
      "cell_type": "code",
      "metadata": {
        "id": "vZH3bmXbZPRm"
      },
      "source": [
        "# Required Libraries\n",
        "from os import listdir #módulo python\n",
        "from os.path import isfile, join #módulo python\n",
        "from pathlib import Path #módulo python\n",
        "import csv #módulo python\n",
        "import numpy\n",
        "import cv2 #OpenCV\n",
        "import pandas as pd "
      ],
      "execution_count": null,
      "outputs": []
    },
    {
      "cell_type": "code",
      "metadata": {
        "id": "4kUwdxCH_JvU"
      },
      "source": [
        "my_file = Path(\"/content/drive/MyDrive/a-PROJETO INICIA_CIENT\")\n",
        "\n",
        "with open('/content/drive/MyDrive/a-PROJETO INICIA_CIENT/images.csv', 'w', newline = '') as file:\n",
        "\t\twriter = csv.writer(file)\n",
        "\t\t\n",
        "\t\twriter.writerow([\"image\", \"Hieght\",\n",
        "\t\t\t\t\t\t\"Width\", \"Channels\",\n",
        "\t\t\t\t\t\t\"Avg Blue\", \"Avg Red\",\n",
        "\t\t\t\t\t\t\"Avg Green\"])\n",
        "\n",
        "# Encontrar as cores e incorporar no CSV\n",
        "mypath = ('/content/drive/MyDrive/a-PROJETO INICIA_CIENT/imagens')\n",
        "\n",
        "onlyfiles = [ f for f in listdir(mypath) if isfile(join(mypath,f)) ]\n",
        "images = numpy.empty(len(onlyfiles), dtype = object)\n",
        "\n",
        "for n in range(0, len(onlyfiles)):\n",
        "\t\n",
        "\tpath = join(mypath,onlyfiles[n])\n",
        "\timages[n] = cv2.imread(join(mypath,onlyfiles[n]),\n",
        "\t\t\t\t\t\tcv2.IMREAD_UNCHANGED)\n",
        "\t\n",
        "\timg = cv2.imread(path)\n",
        "\th,w,c = img.shape\n",
        "#\tprint(h, w, c)\n",
        "\t\n",
        "\tavg_color_per_row = numpy.average(img, axis = 0)\n",
        "\tavg_color = numpy.average(avg_color_per_row, axis = 0)\n",
        "\t\n",
        "\twith open('/content/drive/MyDrive/a-PROJETO INICIA_CIENT/images.csv', 'a', newline = '') as file:\n",
        "\t\twriter = csv.writer(file)\n",
        "\t\twriter.writerow([n+1, onlyfiles[n], h, w, c,\n",
        "\t\t\t\t\t\tavg_color[0], avg_color[1],\n",
        "\t\t\t\t\t\tavg_color[2]])\n",
        "\t\tfile.close()\n"
      ],
      "execution_count": null,
      "outputs": []
    },
    {
      "cell_type": "markdown",
      "metadata": {
        "id": "JC8fCkvKYv9G"
      },
      "source": [
        " - Transforma esse csv em Dataframe"
      ]
    },
    {
      "cell_type": "code",
      "metadata": {
        "colab": {
          "base_uri": "https://localhost:8080/",
          "height": 204
        },
        "id": "_ZPaNDRAnUFS",
        "outputId": "6b41ded8-19a3-4939-8ed1-81dd7a59518b"
      },
      "source": [
        "df = pd.read_csv('/content/drive/MyDrive/a-PROJETO INICIA_CIENT/images.csv')\n",
        "data_img = pd.DataFrame (df)\n",
        "data_img.head()"
      ],
      "execution_count": null,
      "outputs": [
        {
          "output_type": "execute_result",
          "data": {
            "text/html": [
              "<div>\n",
              "<style scoped>\n",
              "    .dataframe tbody tr th:only-of-type {\n",
              "        vertical-align: middle;\n",
              "    }\n",
              "\n",
              "    .dataframe tbody tr th {\n",
              "        vertical-align: top;\n",
              "    }\n",
              "\n",
              "    .dataframe thead th {\n",
              "        text-align: right;\n",
              "    }\n",
              "</style>\n",
              "<table border=\"1\" class=\"dataframe\">\n",
              "  <thead>\n",
              "    <tr style=\"text-align: right;\">\n",
              "      <th></th>\n",
              "      <th>image</th>\n",
              "      <th>Hieght</th>\n",
              "      <th>Width</th>\n",
              "      <th>Channels</th>\n",
              "      <th>Avg Blue</th>\n",
              "      <th>Avg Red</th>\n",
              "      <th>Avg Green</th>\n",
              "    </tr>\n",
              "  </thead>\n",
              "  <tbody>\n",
              "    <tr>\n",
              "      <th>1</th>\n",
              "      <td>DJI_0067 (1).JPG</td>\n",
              "      <td>3000</td>\n",
              "      <td>4000</td>\n",
              "      <td>3</td>\n",
              "      <td>84.556356</td>\n",
              "      <td>139.428232</td>\n",
              "      <td>126.152125</td>\n",
              "    </tr>\n",
              "    <tr>\n",
              "      <th>2</th>\n",
              "      <td>DJI_0068 (1).JPG</td>\n",
              "      <td>3000</td>\n",
              "      <td>4000</td>\n",
              "      <td>3</td>\n",
              "      <td>82.688553</td>\n",
              "      <td>139.683396</td>\n",
              "      <td>128.866103</td>\n",
              "    </tr>\n",
              "    <tr>\n",
              "      <th>3</th>\n",
              "      <td>DJI_0069 (1).JPG</td>\n",
              "      <td>3000</td>\n",
              "      <td>4000</td>\n",
              "      <td>3</td>\n",
              "      <td>82.120196</td>\n",
              "      <td>138.881738</td>\n",
              "      <td>129.961076</td>\n",
              "    </tr>\n",
              "    <tr>\n",
              "      <th>4</th>\n",
              "      <td>DJI_0070 (1).JPG</td>\n",
              "      <td>3000</td>\n",
              "      <td>4000</td>\n",
              "      <td>3</td>\n",
              "      <td>81.216746</td>\n",
              "      <td>138.818663</td>\n",
              "      <td>129.502779</td>\n",
              "    </tr>\n",
              "    <tr>\n",
              "      <th>5</th>\n",
              "      <td>DJI_0071 (1).JPG</td>\n",
              "      <td>3000</td>\n",
              "      <td>4000</td>\n",
              "      <td>3</td>\n",
              "      <td>80.701832</td>\n",
              "      <td>139.392944</td>\n",
              "      <td>130.150816</td>\n",
              "    </tr>\n",
              "  </tbody>\n",
              "</table>\n",
              "</div>"
            ],
            "text/plain": [
              "              image  Hieght  Width  Channels   Avg Blue     Avg Red   Avg Green\n",
              "1  DJI_0067 (1).JPG    3000   4000         3  84.556356  139.428232  126.152125\n",
              "2  DJI_0068 (1).JPG    3000   4000         3  82.688553  139.683396  128.866103\n",
              "3  DJI_0069 (1).JPG    3000   4000         3  82.120196  138.881738  129.961076\n",
              "4  DJI_0070 (1).JPG    3000   4000         3  81.216746  138.818663  129.502779\n",
              "5  DJI_0071 (1).JPG    3000   4000         3  80.701832  139.392944  130.150816"
            ]
          },
          "metadata": {},
          "execution_count": 5
        }
      ]
    },
    {
      "cell_type": "markdown",
      "metadata": {
        "id": "ea2vHljgT_NK"
      },
      "source": [
        "- Cria Dataframe dos rótulos"
      ]
    },
    {
      "cell_type": "code",
      "metadata": {
        "colab": {
          "base_uri": "https://localhost:8080/",
          "height": 204
        },
        "id": "9ACGtBhPB3JX",
        "outputId": "484ccd46-8227-46b1-e597-61ddd980335f"
      },
      "source": [
        "df = pd.read_json('/content/drive/MyDrive/a-PROJETO INICIA_CIENT/labels_my-project-name_2021-06-28-11-27-05.json')\n",
        "data_labels = pd.DataFrame (df)\n",
        "data_labels.head()\n"
      ],
      "execution_count": null,
      "outputs": [
        {
          "output_type": "execute_result",
          "data": {
            "text/html": [
              "<div>\n",
              "<style scoped>\n",
              "    .dataframe tbody tr th:only-of-type {\n",
              "        vertical-align: middle;\n",
              "    }\n",
              "\n",
              "    .dataframe tbody tr th {\n",
              "        vertical-align: top;\n",
              "    }\n",
              "\n",
              "    .dataframe thead th {\n",
              "        text-align: right;\n",
              "    }\n",
              "</style>\n",
              "<table border=\"1\" class=\"dataframe\">\n",
              "  <thead>\n",
              "    <tr style=\"text-align: right;\">\n",
              "      <th></th>\n",
              "      <th>image</th>\n",
              "      <th>annotations</th>\n",
              "    </tr>\n",
              "  </thead>\n",
              "  <tbody>\n",
              "    <tr>\n",
              "      <th>0</th>\n",
              "      <td>DJI_0067.JPG</td>\n",
              "      <td>[vegetação densa]</td>\n",
              "    </tr>\n",
              "    <tr>\n",
              "      <th>1</th>\n",
              "      <td>DJI_0068.JPG</td>\n",
              "      <td>[vegetação densa]</td>\n",
              "    </tr>\n",
              "    <tr>\n",
              "      <th>2</th>\n",
              "      <td>DJI_0069.JPG</td>\n",
              "      <td>[vegetação densa]</td>\n",
              "    </tr>\n",
              "    <tr>\n",
              "      <th>3</th>\n",
              "      <td>DJI_0070.JPG</td>\n",
              "      <td>[vegetação densa]</td>\n",
              "    </tr>\n",
              "    <tr>\n",
              "      <th>4</th>\n",
              "      <td>DJI_0071.JPG</td>\n",
              "      <td>[vegetação densa]</td>\n",
              "    </tr>\n",
              "  </tbody>\n",
              "</table>\n",
              "</div>"
            ],
            "text/plain": [
              "          image        annotations\n",
              "0  DJI_0067.JPG  [vegetação densa]\n",
              "1  DJI_0068.JPG  [vegetação densa]\n",
              "2  DJI_0069.JPG  [vegetação densa]\n",
              "3  DJI_0070.JPG  [vegetação densa]\n",
              "4  DJI_0071.JPG  [vegetação densa]"
            ]
          },
          "metadata": {},
          "execution_count": 7
        }
      ]
    },
    {
      "cell_type": "markdown",
      "metadata": {
        "id": "ZfTpk9YAUsFL"
      },
      "source": [
        "- Faz a união dos Dataframes criados"
      ]
    },
    {
      "cell_type": "code",
      "metadata": {
        "colab": {
          "base_uri": "https://localhost:8080/",
          "height": 202
        },
        "id": "XCVA9E3qFzYp",
        "outputId": "6b72fc1e-da31-44ad-a43b-c4cc16e4e77b"
      },
      "source": [
        "data= data_img.join(data_labels.set_index('image'), on='image')\n",
        "data.to_csv(r'/content/drive/MyDrive/a-PROJETO INICIA_CIENT/Dataframe.csv', index = False, header=True)\n",
        "dd = pd.read_csv('/content/drive/MyDrive/a-PROJETO INICIA_CIENT\\Dataframe.csv')\n",
        "dd.head()"
      ],
      "execution_count": null,
      "outputs": [
        {
          "output_type": "execute_result",
          "data": {
            "text/html": [
              "<div>\n",
              "<style scoped>\n",
              "    .dataframe tbody tr th:only-of-type {\n",
              "        vertical-align: middle;\n",
              "    }\n",
              "\n",
              "    .dataframe tbody tr th {\n",
              "        vertical-align: top;\n",
              "    }\n",
              "\n",
              "    .dataframe thead th {\n",
              "        text-align: right;\n",
              "    }\n",
              "</style>\n",
              "<table border=\"1\" class=\"dataframe\">\n",
              "  <thead>\n",
              "    <tr style=\"text-align: right;\">\n",
              "      <th></th>\n",
              "      <th>image</th>\n",
              "      <th>Hieght</th>\n",
              "      <th>Width</th>\n",
              "      <th>Channels</th>\n",
              "      <th>Avg Blue</th>\n",
              "      <th>Avg Red</th>\n",
              "      <th>Avg Green</th>\n",
              "      <th>annotations</th>\n",
              "    </tr>\n",
              "  </thead>\n",
              "  <tbody>\n",
              "    <tr>\n",
              "      <th>0</th>\n",
              "      <td>DJI_0067 (1).JPG</td>\n",
              "      <td>3000</td>\n",
              "      <td>4000</td>\n",
              "      <td>3</td>\n",
              "      <td>84.556356</td>\n",
              "      <td>139.428232</td>\n",
              "      <td>126.152125</td>\n",
              "      <td>NaN</td>\n",
              "    </tr>\n",
              "    <tr>\n",
              "      <th>1</th>\n",
              "      <td>DJI_0068 (1).JPG</td>\n",
              "      <td>3000</td>\n",
              "      <td>4000</td>\n",
              "      <td>3</td>\n",
              "      <td>82.688553</td>\n",
              "      <td>139.683396</td>\n",
              "      <td>128.866103</td>\n",
              "      <td>NaN</td>\n",
              "    </tr>\n",
              "    <tr>\n",
              "      <th>2</th>\n",
              "      <td>DJI_0069 (1).JPG</td>\n",
              "      <td>3000</td>\n",
              "      <td>4000</td>\n",
              "      <td>3</td>\n",
              "      <td>82.120196</td>\n",
              "      <td>138.881738</td>\n",
              "      <td>129.961076</td>\n",
              "      <td>NaN</td>\n",
              "    </tr>\n",
              "    <tr>\n",
              "      <th>3</th>\n",
              "      <td>DJI_0070 (1).JPG</td>\n",
              "      <td>3000</td>\n",
              "      <td>4000</td>\n",
              "      <td>3</td>\n",
              "      <td>81.216746</td>\n",
              "      <td>138.818663</td>\n",
              "      <td>129.502779</td>\n",
              "      <td>NaN</td>\n",
              "    </tr>\n",
              "    <tr>\n",
              "      <th>4</th>\n",
              "      <td>DJI_0071 (1).JPG</td>\n",
              "      <td>3000</td>\n",
              "      <td>4000</td>\n",
              "      <td>3</td>\n",
              "      <td>80.701832</td>\n",
              "      <td>139.392944</td>\n",
              "      <td>130.150816</td>\n",
              "      <td>NaN</td>\n",
              "    </tr>\n",
              "  </tbody>\n",
              "</table>\n",
              "</div>"
            ],
            "text/plain": [
              "              image  Hieght  Width  ...     Avg Red   Avg Green  annotations\n",
              "0  DJI_0067 (1).JPG    3000   4000  ...  139.428232  126.152125          NaN\n",
              "1  DJI_0068 (1).JPG    3000   4000  ...  139.683396  128.866103          NaN\n",
              "2  DJI_0069 (1).JPG    3000   4000  ...  138.881738  129.961076          NaN\n",
              "3  DJI_0070 (1).JPG    3000   4000  ...  138.818663  129.502779          NaN\n",
              "4  DJI_0071 (1).JPG    3000   4000  ...  139.392944  130.150816          NaN\n",
              "\n",
              "[5 rows x 8 columns]"
            ]
          },
          "metadata": {
            "tags": []
          },
          "execution_count": 9
        }
      ]
    },
    {
      "cell_type": "markdown",
      "metadata": {
        "id": "jvM8NUbTfrCa"
      },
      "source": [
        "\n",
        "\n",
        "*   Reirar nome, altura, largura e canais\n",
        "\n",
        "\n"
      ]
    },
    {
      "cell_type": "markdown",
      "metadata": {
        "id": "W-NICq7o_6QC"
      },
      "source": [
        "# **Classificação Random Forest**\n",
        "\n",
        "---\n",
        "\n"
      ]
    },
    {
      "cell_type": "markdown",
      "metadata": {
        "id": "OTlEMMTHvKA5"
      },
      "source": [
        "# Hiperparâmetros"
      ]
    },
    {
      "cell_type": "code",
      "metadata": {
        "colab": {
          "base_uri": "https://localhost:8080/"
        },
        "id": "tkTuusNhvNtV",
        "outputId": "37df7ae9-6672-4b59-c944-3e46bd8e4937"
      },
      "source": [
        "import pandas as pd\n",
        "import numpy as np\n",
        "from sklearn.model_selection import RandomizedSearchCV\n",
        "from sklearn.model_selection import train_test_split\n",
        "from sklearn.preprocessing import OrdinalEncoder\n",
        "from sklearn.ensemble import RandomForestClassifier\n",
        "\n",
        "#carrega o dataset\n",
        "train = pd.read_csv('/content/drive/MyDrive/a-PROJETO INICIA_CIENT/Dataframe_noatribute.csv')\n",
        "train.head()\n",
        "\n",
        "\n",
        "#divide em treino (70%) e teste (30%), onde x=dados sem rotulos e y=rotulos\n",
        "x_train, x_test, y_train, y_test = train_test_split(train.drop('annotations',\n",
        "                                                    axis=1),\n",
        "                                                    train['annotations'],\n",
        "                                                    test_size=0.3)\n",
        "\n",
        "print('O dataset de treino possui {} imagens e o de teste {} imagens.'.format(x_train.shape[0], x_test.shape[0]))\n",
        "print('------------------------------------------')\n",
        "\n",
        "\n",
        "#codifica os valores categóricos dos dados e os converte em números\n",
        "enc = OrdinalEncoder()\n",
        "x_train[[\"image\"]] = enc.fit_transform(x_train[[\"image\"]])\n",
        "x_test[[\"image\"]] = enc.fit_transform(x_test[[\"image\"]])\n",
        "\n",
        "rf = RandomForestClassifier ()\n",
        "\n",
        "\n",
        "n_estimators = [int(x) for x in np.linspace(start = 1, stop = 20, num = 20)]\n",
        "max_features = ['auto', 'sqrt']\n",
        "max_depth = [int(x) for x in np.linspace(10, 120, num = 12)]\n",
        "min_samples_split = [2, 6, 10]\n",
        "min_samples_leaf = [1, 3, 4]\n",
        "bootstrap = [True, False]\n",
        "\n",
        "\n",
        "random_grid = {'n_estimators': n_estimators,\n",
        "\n",
        "'max_features': max_features,\n",
        "\n",
        "'max_depth': max_depth,\n",
        "\n",
        "'min_samples_split': min_samples_split,\n",
        "\n",
        "'min_samples_leaf': min_samples_leaf,\n",
        "\n",
        "'bootstrap': bootstrap}\n",
        "\n",
        "rf_random = RandomizedSearchCV(estimator = rf,\n",
        "\n",
        "param_distributions = random_grid,\n",
        "               n_iter = 100, cv = 5, verbose=2, random_state=35, n_jobs = -1)\n",
        "rf_random.fit(x_train,y_train)\n",
        "\n",
        "# this prints the contents of the parameters in the random grid\n",
        "print ('Random grid: ', random_grid, '\\n')\n",
        "\n",
        "# print the best parameters\n",
        "print ('Best Parameters: ', rf_random.best_params_, ' \\n')"
      ],
      "execution_count": null,
      "outputs": [
        {
          "output_type": "stream",
          "name": "stdout",
          "text": [
            "O dataset de treino possui 174 imagens e o de teste 75 imagens.\n",
            "------------------------------------------\n",
            "Fitting 5 folds for each of 100 candidates, totalling 500 fits\n"
          ]
        },
        {
          "output_type": "stream",
          "name": "stderr",
          "text": [
            "[Parallel(n_jobs=-1)]: Using backend LokyBackend with 2 concurrent workers.\n",
            "[Parallel(n_jobs=-1)]: Done 130 tasks      | elapsed:    3.4s\n"
          ]
        },
        {
          "output_type": "stream",
          "name": "stdout",
          "text": [
            "Random grid:  {'n_estimators': [1, 2, 3, 4, 5, 6, 7, 8, 9, 10, 11, 12, 13, 14, 15, 16, 17, 18, 19, 20], 'max_features': ['auto', 'sqrt'], 'max_depth': [10, 20, 30, 40, 50, 60, 70, 80, 90, 100, 110, 120], 'min_samples_split': [2, 6, 10], 'min_samples_leaf': [1, 3, 4], 'bootstrap': [True, False]} \n",
            "\n",
            "Best Parameters:  {'n_estimators': 18, 'min_samples_split': 6, 'min_samples_leaf': 3, 'max_features': 'sqrt', 'max_depth': 110, 'bootstrap': True}  \n",
            "\n"
          ]
        },
        {
          "output_type": "stream",
          "name": "stderr",
          "text": [
            "[Parallel(n_jobs=-1)]: Done 500 out of 500 | elapsed:    8.9s finished\n"
          ]
        }
      ]
    },
    {
      "cell_type": "markdown",
      "metadata": {
        "id": "aeY835hAn2zI"
      },
      "source": [
        "# Modelo"
      ]
    },
    {
      "cell_type": "code",
      "metadata": {
        "colab": {
          "base_uri": "https://localhost:8080/"
        },
        "id": "30iu569W_pvt",
        "outputId": "e3eccce6-bd57-4c97-b351-35d61ea0f7b0"
      },
      "source": [
        "import pandas as pd\n",
        "from sklearn.model_selection import train_test_split\n",
        "from sklearn.preprocessing import OrdinalEncoder\n",
        "from sklearn.model_selection import cross_val_score\n",
        "from sklearn.ensemble import RandomForestClassifier\n",
        "from sklearn.metrics import accuracy_score\n",
        "from sklearn.metrics import roc_auc_score\n",
        "\n",
        "#carrega o dataset\n",
        "train = pd.read_csv('/content/drive/MyDrive/a-PROJETO INICIA_CIENT/Dataframe_noatribute.csv')\n",
        "train.head()\n",
        "\n",
        "\n",
        "#divide em treino (70%) e teste (30%), onde x=dados sem rotulos e y=rotulos\n",
        "x_train, x_test, y_train, y_test = train_test_split(train.drop('annotations',\n",
        "                                                    axis=1),\n",
        "                                                    train['annotations'],\n",
        "                                                    test_size=0.3)\n",
        "\n",
        "print('O dataset de treino possui {} imagens e o de teste {} imagens.'.format(x_train.shape[0], x_test.shape[0]))\n",
        "print('------------------------------------------')\n",
        "\n",
        "\n",
        "#codifica os valores categóricos dos dados e os converte em números\n",
        "enc = OrdinalEncoder()\n",
        "x_train[[\"image\"]] = enc.fit_transform(x_train[[\"image\"]])\n",
        "x_test[[\"image\"]] = enc.fit_transform(x_test[[\"image\"]])\n",
        "\n",
        "# Treino do classificador\n",
        "clf = RandomForestClassifier ()\n",
        "\n",
        "#validação cruzada\n",
        "from sklearn.model_selection import cross_val_score\n",
        "results = cross_val_score(clf, x_train, \n",
        "                          y_train, cv = 5, scoring = 'accuracy')\n",
        "mean = results.mean()\n",
        "print('Acurácia média: {:.2f}%'.format(mean*100))\n",
        "print('------------------------------------------')\n",
        "\n",
        "#treinamento\n",
        "clf.fit(x_train,y_train)\n",
        "y_pred = clf.predict(x_test)\n",
        "y_prob = clf.predict_proba(x_test)\n",
        "\n",
        "#Importância de cada feature\n",
        "features = train.columns.difference(['annotations','image']) #pega as colunas exceto a de rótulos e do nome da imagem\n",
        "features_importance = zip(clf.feature_importances_, features)\n",
        "print('Importância das features')\n",
        "for importance, feature in sorted(features_importance, reverse=True):\n",
        "    print(\"%s: %f%%\" % (feature, importance*100))\n",
        "print('------------------------------------------')\n",
        "\n",
        "#score\n",
        "print('------------------------------------------')\n",
        "print(\"treino:\", clf.score(x_train,y_train))\n",
        "print(\"teste:\", clf.score(x_test,y_test))\n",
        "print('------------------------------------------')"
      ],
      "execution_count": null,
      "outputs": [
        {
          "output_type": "stream",
          "name": "stdout",
          "text": [
            "O dataset de treino possui 174 imagens e o de teste 75 imagens.\n",
            "------------------------------------------\n",
            "Acurácia média: 66.66%\n",
            "------------------------------------------\n",
            "Importância das features\n",
            "Avg Blue: 40.557413%\n",
            "Avg Green: 26.875166%\n",
            "Avg Red: 15.246519%\n",
            "------------------------------------------\n",
            "------------------------------------------\n",
            "treino: 0.9252873563218391\n",
            "teste: 0.3466666666666667\n",
            "------------------------------------------\n"
          ]
        }
      ]
    },
    {
      "cell_type": "code",
      "metadata": {
        "id": "jbjrwMDRAGRY"
      },
      "source": [
        "print (y_test)"
      ],
      "execution_count": null,
      "outputs": []
    },
    {
      "cell_type": "code",
      "metadata": {
        "id": "XWfzz91ZAG3a"
      },
      "source": [
        "print (x_test)"
      ],
      "execution_count": null,
      "outputs": []
    },
    {
      "cell_type": "code",
      "metadata": {
        "colab": {
          "base_uri": "https://localhost:8080/"
        },
        "id": "ghiqLaFxAJVc",
        "outputId": "98eba455-b91b-4b56-814a-bac57a940034"
      },
      "source": [
        "print (y_pred)"
      ],
      "execution_count": null,
      "outputs": [
        {
          "output_type": "stream",
          "name": "stdout",
          "text": [
            "[\"['sup_imper']\" \"['sup_imper']\" \"['sup_imper']\" \"['veg_rast']\"\n",
            " \"['sup_imper']\" \"['veg_densa']\" \"['veg_densa']\" \"['veg_densa']\"\n",
            " \"['veg_rast']\" \"['sup_imper']\" \"['sup_imper']\" \"['veg_densa']\"\n",
            " \"['veg_rast']\" \"['veg_rast']\" \"['sup_imper']\" \"['sup_imper']\"\n",
            " \"['veg_rast']\" \"['sup_imper']\" \"['veg_densa']\" \"['veg_rast']\"\n",
            " \"['veg_densa']\" \"['veg_rast']\" \"['sup_imper']\" \"['sup_imper']\"\n",
            " \"['sup_imper']\" \"['sup_imper']\" \"['sup_imper']\" \"['solo_exp']\"\n",
            " \"['sup_imper']\" \"['sup_imper']\" \"['sup_imper']\" \"['sup_imper']\"\n",
            " \"['veg_densa']\" \"['veg_densa']\" \"['sup_imper']\" \"['veg_densa']\"\n",
            " \"['sup_imper']\" \"['veg_densa']\" \"['veg_densa']\" \"['veg_densa']\"\n",
            " \"['sup_imper']\" \"['veg_rast']\" \"['veg_rast']\" \"['sup_imper']\"\n",
            " \"['veg_rast']\" \"['sup_imper']\" \"['veg_densa']\" \"['veg_rast']\"\n",
            " \"['sup_imper']\" \"['veg_densa']\" \"['veg_densa']\" \"['sup_imper']\"\n",
            " \"['veg_densa']\" \"['veg_rast']\" \"['veg_rast']\" \"['veg_densa']\"\n",
            " \"['veg_densa']\" \"['veg_rast']\" \"['solo_exp']\" \"['sup_imper']\"\n",
            " \"['veg_densa']\" \"['veg_densa']\" \"['veg_densa']\" \"['veg_rast']\"\n",
            " \"['veg_rast']\" \"['veg_densa']\" \"['veg_rast']\" \"['veg_rast']\"\n",
            " \"['sup_imper']\" \"['veg_densa']\" \"['veg_densa']\" \"['veg_densa']\"\n",
            " \"['sup_imper']\" \"['veg_rast']\" \"['veg_rast']\"]\n"
          ]
        }
      ]
    },
    {
      "cell_type": "markdown",
      "metadata": {
        "id": "p2gb5RCEqznw"
      },
      "source": [
        "# Curva de validação do Hiperparâmetro n_estimators"
      ]
    },
    {
      "cell_type": "code",
      "metadata": {
        "id": "OFXCKEY7H6xk"
      },
      "source": [
        "from sklearn.model_selection import validation_curve\n",
        "import matplotlib.pyplot as plt\n",
        "import numpy as np"
      ],
      "execution_count": null,
      "outputs": []
    },
    {
      "cell_type": "markdown",
      "metadata": {
        "id": "offn547mq8od"
      },
      "source": [
        "\n",
        "\n",
        "* n_estimators\n",
        "\n",
        "\n",
        "\n"
      ]
    },
    {
      "cell_type": "code",
      "metadata": {
        "id": "KYde7NXflGcV"
      },
      "source": [
        "# Definir o intervalo do parâmetro\n",
        "parameter_range = np.arange(1, 1200,1)\n",
        "\n",
        "train_score, test_score = validation_curve ( \n",
        "                                RandomForestClassifier (), \n",
        "                                X = x_train, y = y_train, \n",
        "                                param_name = 'n_estimators', \n",
        "                                param_range = parameter_range, cv = 5, scoring = \"accuracy\")\n",
        " \n",
        "# Calculando a média e o desvio padrão da pontuação do treinamento\n",
        "mean_train_score = np.mean(train_score, axis = 1)\n",
        "std_train_score = np.std(train_score, axis = 1)\n",
        " \n",
        "# Calculando a média e o desvio padrão da pontuação do teste\n",
        "mean_test_score = np.mean(test_score, axis = 1)\n",
        "std_test_score = np.std(test_score, axis = 1)\n",
        " \n",
        "# Plote as pontuações médias de precisão para as pontuações de treinamento e teste\n",
        "plt.plot(parameter_range, mean_train_score,\n",
        "     label = \"Training Score\", color = 'b')\n",
        "plt.plot(parameter_range, mean_test_score,\n",
        "   label = \"Cross Validation Score\", color = 'g')\n",
        " \n",
        "# Configurações de plot\n",
        "plt.title(\"Validation Curve with RF Classifier\")\n",
        "plt.xlabel(\"Number of Estimators\")\n",
        "plt.ylabel(\"Accuracy\")\n",
        "plt.tight_layout()\n",
        "plt.legend(loc = 'best')\n",
        "plt.show()"
      ],
      "execution_count": null,
      "outputs": []
    },
    {
      "cell_type": "markdown",
      "metadata": {
        "id": "mglZx0QerNr1"
      },
      "source": [
        "* max_depth\n",
        "\n",
        "\n",
        "\n",
        "\n",
        "\n"
      ]
    },
    {
      "cell_type": "code",
      "metadata": {
        "id": "QQ6ggb_mnswH"
      },
      "source": [
        "parameter_range = np.arange(1,25)\n",
        "\n",
        "train_score, test_score = validation_curve ( \n",
        "                                RandomForestClassifier (), \n",
        "                                X = x_train, y = y_train, \n",
        "                                param_name = 'max_depth', \n",
        "                                param_range = parameter_range, cv = 5, scoring = \"accuracy\")\n",
        " \n",
        "mean_train_score = np.mean(train_score, axis = 1)\n",
        "std_train_score = np.std(train_score, axis = 1)\n",
        " \n",
        "mean_test_score = np.mean(test_score, axis = 1)\n",
        "std_test_score = np.std(test_score, axis = 1)\n",
        " \n",
        "plt.plot(parameter_range, mean_train_score,\n",
        "     label = \"Training Score\", color = 'b')\n",
        "plt.plot(parameter_range, mean_test_score,\n",
        "   label = \"Cross Validation Score\", color = 'g')\n",
        " \n",
        "plt.title(\"Validation Curve with RF Classifier\")\n",
        "plt.xlabel(\"Max Depth\")\n",
        "plt.ylabel(\"Accuracy\")\n",
        "plt.tight_layout()\n",
        "plt.legend(loc = 'best')\n",
        "plt.show()"
      ],
      "execution_count": null,
      "outputs": []
    },
    {
      "cell_type": "markdown",
      "metadata": {
        "id": "-bf5TxflOWif"
      },
      "source": [
        "# Métricas de Avaliação da Classificação"
      ]
    },
    {
      "cell_type": "markdown",
      "metadata": {
        "id": "iLRMIJsUjtnz"
      },
      "source": [
        "Relatório de classificação"
      ]
    },
    {
      "cell_type": "code",
      "metadata": {
        "colab": {
          "base_uri": "https://localhost:8080/"
        },
        "id": "wjB3B3snSDqL",
        "outputId": "efc5ce2c-7b46-49d6-d4dc-806f62c1b160"
      },
      "source": [
        "from sklearn.metrics import classification_report\n",
        "# imprimir relatório de classificação\n",
        "print(\"Relatório de Classificação:\\n\", \n",
        "       classification_report(y_test, y_pred, digits=4))\n",
        "# imprimir a área sob a curva\n",
        "print(\"AUC: {:.4f}\\n\".format(roc_auc_score(y_test, y_prob, multi_class='ovo')))"
      ],
      "execution_count": null,
      "outputs": [
        {
          "output_type": "stream",
          "name": "stdout",
          "text": [
            "Relatório de Classificação:\n",
            "                precision    recall  f1-score   support\n",
            "\n",
            " ['solo_exp']     0.5000    1.0000    0.6667         1\n",
            "['sup_imper']     0.8929    0.6579    0.7576        38\n",
            "['veg_densa']     0.6800    0.8947    0.7727        19\n",
            " ['veg_rast']     0.5500    0.6471    0.5946        17\n",
            "\n",
            "     accuracy                         0.7200        75\n",
            "    macro avg     0.6557    0.7999    0.6979        75\n",
            " weighted avg     0.7560    0.7200    0.7233        75\n",
            "\n",
            "AUC: 0.9453\n",
            "\n"
          ]
        }
      ]
    },
    {
      "cell_type": "markdown",
      "metadata": {
        "id": "aGACkKQdN2ta"
      },
      "source": [
        "Matriz de confusão"
      ]
    },
    {
      "cell_type": "code",
      "metadata": {
        "colab": {
          "base_uri": "https://localhost:8080/",
          "height": 745
        },
        "id": "nThWCscSH_Sp",
        "outputId": "e6b551be-b112-4c6c-f72e-1e76f4a1c38d"
      },
      "source": [
        "from sklearn.metrics import plot_confusion_matrix\n",
        "from matplotlib import pyplot as plt\n",
        "#classes\n",
        "#class_names= None -> Se Nonefor fornecido, aqueles que aparecem pelo menos uma vez y_true ou y_pred são usados ​​em ordem de classificação.\n",
        "\n",
        "np.set_printoptions(precision=2)\n",
        "\n",
        "# Plot non-normalized confusion matrix\n",
        "titles_options = [(\"Matriz de confusão sem normalização\", None),\n",
        "                  (\"Matriz de confusão normalizada\", 'true')]\n",
        "for title, normalize in titles_options:\n",
        "    disp = plot_confusion_matrix(clf, x_test, y_test,\n",
        "                                 display_labels = None,\n",
        "                                 cmap=plt.cm.Blues,\n",
        "                                 normalize=normalize)\n",
        "    disp.ax_.set_title(title)\n",
        "\n",
        "    print(title)\n",
        "    print(disp.confusion_matrix)\n",
        "\n",
        "plt.show()"
      ],
      "execution_count": null,
      "outputs": [
        {
          "output_type": "stream",
          "name": "stdout",
          "text": [
            "Matriz de confusão sem normalização\n",
            "[[ 1  0  0  0]\n",
            " [ 1 25  3  9]\n",
            " [ 0  2 17  0]\n",
            " [ 0  1  5 11]]\n",
            "Matriz de confusão normalizada\n",
            "[[1.   0.   0.   0.  ]\n",
            " [0.03 0.66 0.08 0.24]\n",
            " [0.   0.11 0.89 0.  ]\n",
            " [0.   0.06 0.29 0.65]]\n"
          ]
        },
        {
          "output_type": "display_data",
          "data": {
            "image/png": "[encoded data removed]",
            "text/plain": [
              "<Figure size 432x288 with 2 Axes>"
            ]
          },
          "metadata": {
            "needs_background": "light"
          }
        },
        {
          "output_type": "display_data",
          "data": {
            "image/png": "[encoded data removed]",
            "text/plain": [
              "<Figure size 432x288 with 2 Axes>"
            ]
          },
          "metadata": {
            "needs_background": "light"
          }
        }
      ]
    },
    {
      "cell_type": "markdown",
      "metadata": {
        "id": "7vfLNO9cy0mX"
      },
      "source": [
        "índice Kappa"
      ]
    },
    {
      "cell_type": "code",
      "metadata": {
        "colab": {
          "base_uri": "https://localhost:8080/"
        },
        "id": "eHyv5UTnymBn",
        "outputId": "b21639db-bc51-4841-e1c1-2fb3131d6727"
      },
      "source": [
        "from sklearn.metrics import cohen_kappa_score\n",
        "cohen_kappa_score( y_test , y_pred , labels = None )"
      ],
      "execution_count": null,
      "outputs": [
        {
          "output_type": "execute_result",
          "data": {
            "text/plain": [
              "0.5793269230769231"
            ]
          },
          "metadata": {},
          "execution_count": 20
        }
      ]
    },
    {
      "cell_type": "markdown",
      "metadata": {
        "id": "NY8uXOPc05Ew"
      },
      "source": [
        "# Salvando o modelo"
      ]
    },
    {
      "cell_type": "code",
      "metadata": {
        "id": "G2h2dwtv08VM"
      },
      "source": [
        "import os\n",
        "import joblib\n",
        "import numpy as np"
      ],
      "execution_count": null,
      "outputs": []
    },
    {
      "cell_type": "code",
      "metadata": {
        "colab": {
          "base_uri": "https://localhost:8080/"
        },
        "id": "4g3WgP5H1OO2",
        "outputId": "f05fec77-4d64-454e-8f55-df07b9e579ca"
      },
      "source": [
        "# salvando o modelo na pasta do Google Drive\n",
        "joblib.dump(clf, \"/content/drive/MyDrive/a-PROJETO INICIA_CIENT/random_forest.joblib\")"
      ],
      "execution_count": null,
      "outputs": [
        {
          "output_type": "execute_result",
          "data": {
            "text/plain": [
              "['/content/drive/MyDrive/a-PROJETO INICIA_CIENT/random_forest.joblib']"
            ]
          },
          "metadata": {},
          "execution_count": 22
        }
      ]
    },
    {
      "cell_type": "code",
      "metadata": {
        "id": "TD6uN6RO1Q9M"
      },
      "source": [
        "# carregano o modelo na variável loaded_rf\n",
        "loaded_rf = joblib.load(\"/content/drive/MyDrive/a-PROJETO INICIA_CIENT/random_forest.joblib\")"
      ],
      "execution_count": null,
      "outputs": []
    },
    {
      "cell_type": "code",
      "metadata": {
        "colab": {
          "base_uri": "https://localhost:8080/"
        },
        "id": "W3R1eJq31U1O",
        "outputId": "d5265bb7-86ab-423c-d8b9-202f0a05c8ee"
      },
      "source": [
        "loaded_rf.predict(x_test)"
      ],
      "execution_count": null,
      "outputs": [
        {
          "output_type": "execute_result",
          "data": {
            "text/plain": [
              "array([\"['sup_imper']\", \"['sup_imper']\", \"['sup_imper']\", \"['veg_rast']\",\n",
              "       \"['sup_imper']\", \"['veg_densa']\", \"['veg_densa']\", \"['veg_densa']\",\n",
              "       \"['veg_rast']\", \"['sup_imper']\", \"['sup_imper']\", \"['veg_densa']\",\n",
              "       \"['veg_rast']\", \"['veg_rast']\", \"['sup_imper']\", \"['sup_imper']\",\n",
              "       \"['veg_rast']\", \"['sup_imper']\", \"['veg_densa']\", \"['veg_rast']\",\n",
              "       \"['veg_densa']\", \"['veg_rast']\", \"['sup_imper']\", \"['sup_imper']\",\n",
              "       \"['sup_imper']\", \"['sup_imper']\", \"['sup_imper']\", \"['solo_exp']\",\n",
              "       \"['sup_imper']\", \"['sup_imper']\", \"['sup_imper']\", \"['sup_imper']\",\n",
              "       \"['veg_densa']\", \"['veg_densa']\", \"['sup_imper']\", \"['veg_densa']\",\n",
              "       \"['sup_imper']\", \"['veg_densa']\", \"['veg_densa']\", \"['veg_densa']\",\n",
              "       \"['sup_imper']\", \"['veg_rast']\", \"['veg_rast']\", \"['sup_imper']\",\n",
              "       \"['veg_rast']\", \"['sup_imper']\", \"['veg_densa']\", \"['veg_rast']\",\n",
              "       \"['sup_imper']\", \"['veg_densa']\", \"['veg_densa']\", \"['sup_imper']\",\n",
              "       \"['veg_densa']\", \"['veg_rast']\", \"['veg_rast']\", \"['veg_densa']\",\n",
              "       \"['veg_densa']\", \"['veg_rast']\", \"['solo_exp']\", \"['sup_imper']\",\n",
              "       \"['veg_densa']\", \"['veg_densa']\", \"['veg_densa']\", \"['veg_rast']\",\n",
              "       \"['veg_rast']\", \"['veg_densa']\", \"['veg_rast']\", \"['veg_rast']\",\n",
              "       \"['sup_imper']\", \"['veg_densa']\", \"['veg_densa']\", \"['veg_densa']\",\n",
              "       \"['sup_imper']\", \"['veg_rast']\", \"['veg_rast']\"], dtype=object)"
            ]
          },
          "metadata": {},
          "execution_count": 24
        }
      ]
    }
  ]
}